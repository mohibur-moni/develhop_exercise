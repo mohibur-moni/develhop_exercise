{
 "cells": [
  {
   "cell_type": "markdown",
   "id": "1c1f216c",
   "metadata": {},
   "source": [
    "### Exercise Variables - 1\n",
    "#### Create a firstName variable and assign the value Mario to it."
   ]
  },
  {
   "cell_type": "code",
   "execution_count": 102,
   "id": "179d07f4",
   "metadata": {},
   "outputs": [],
   "source": [
    "firstname = 'Mario'"
   ]
  },
  {
   "cell_type": "markdown",
   "id": "b181d5aa",
   "metadata": {},
   "source": [
    "### Exercise Variables - 2\n",
    "#### Create an age variable and assign the value 25 to it."
   ]
  },
  {
   "cell_type": "code",
   "execution_count": 103,
   "id": "753f9cfa",
   "metadata": {},
   "outputs": [],
   "source": [
    "age = 25 "
   ]
  },
  {
   "cell_type": "markdown",
   "id": "a3340ca0",
   "metadata": {},
   "source": [
    "### Exercise Variables - 3\n",
    "#### Create a sentence variable and assign the value Hello, I'm Mario! to it without using double quotes."
   ]
  },
  {
   "cell_type": "code",
   "execution_count": 104,
   "id": "07f1e358",
   "metadata": {},
   "outputs": [],
   "source": [
    "sentence = \"\"\"Hello, I'm Mario!\"\"\""
   ]
  },
  {
   "cell_type": "markdown",
   "id": "2c8d9f32",
   "metadata": {},
   "source": [
    "### Exercise Variebles - 4\n",
    "#### Create an amount variable and assign a float value to it."
   ]
  },
  {
   "cell_type": "code",
   "execution_count": 105,
   "id": "7e2b3db5",
   "metadata": {},
   "outputs": [],
   "source": [
    "amount = 156.5"
   ]
  },
  {
   "cell_type": "markdown",
   "id": "50aea74e",
   "metadata": {},
   "source": [
    "### Exercise Variebles - 5\n",
    "#### Create a set of 3 variables and assign True as value of each one."
   ]
  },
  {
   "cell_type": "code",
   "execution_count": 106,
   "id": "b85e4ca7",
   "metadata": {},
   "outputs": [],
   "source": [
    "a, b, c = True, True, True"
   ]
  },
  {
   "cell_type": "markdown",
   "id": "9a5c8147",
   "metadata": {},
   "source": [
    "### Exercise Variebles - 6\n",
    "#### Remove the illegal characters in the variable 1my-first2_Name = 'Mario'."
   ]
  },
  {
   "cell_type": "code",
   "execution_count": 107,
   "id": "23d57bf5",
   "metadata": {},
   "outputs": [],
   "source": [
    "my_first_name = 'Mario'"
   ]
  },
  {
   "cell_type": "markdown",
   "id": "5e3524a2",
   "metadata": {},
   "source": [
    "### Exercise Variables - 7\n",
    "#### Write single quotes or double quotes correctly"
   ]
  },
  {
   "cell_type": "code",
   "execution_count": 108,
   "id": "cc2bdd3b",
   "metadata": {},
   "outputs": [],
   "source": [
    "val = \"Hi, my name is John Doe, 'python'\""
   ]
  },
  {
   "cell_type": "markdown",
   "id": "3a7914cc",
   "metadata": {},
   "source": [
    "### Exercise Variables - 8\n",
    "#### Create 3 different variables and assign 3 different values. Write only one operation. Print them on terminal"
   ]
  },
  {
   "cell_type": "markdown",
   "id": "2242d41a",
   "metadata": {},
   "source": [
    "### Exercise Variables - 9\n",
    "#### Swap the value of the variables"
   ]
  },
  {
   "cell_type": "code",
   "execution_count": 109,
   "id": "037f3418",
   "metadata": {},
   "outputs": [],
   "source": [
    "b , a = a , b"
   ]
  },
  {
   "cell_type": "code",
   "execution_count": 110,
   "id": "be3fe8bd",
   "metadata": {},
   "outputs": [
    {
     "name": "stdout",
     "output_type": "stream",
     "text": [
      "True True\n"
     ]
    }
   ],
   "source": [
    "print(a,b)"
   ]
  },
  {
   "cell_type": "markdown",
   "id": "89cb0d69",
   "metadata": {},
   "source": [
    "### Exercise Variables - 10\n",
    "#### Print the length of each variable."
   ]
  },
  {
   "cell_type": "code",
   "execution_count": 8,
   "id": "109c2aad",
   "metadata": {},
   "outputs": [],
   "source": [
    "hello = 'Hello!'\n",
    "name = 'Jhon Doe'\n",
    "age = '40'"
   ]
  },
  {
   "cell_type": "code",
   "execution_count": 13,
   "id": "211029a4",
   "metadata": {},
   "outputs": [
    {
     "name": "stdout",
     "output_type": "stream",
     "text": [
      "6 \n",
      ",8\n",
      "82\n"
     ]
    }
   ],
   "source": [
    "print(f'{len(hello)} \\n,{(len(name))}')\n",
    "print(len(name), end='')\n",
    "print(len(age))\n"
   ]
  },
  {
   "cell_type": "markdown",
   "id": "faa49849",
   "metadata": {},
   "source": [
    "### Exercise Variables - 11\n",
    "#### Modify the variables as suggested\n",
    "a = 'hello'  #capitalize <br>\n",
    "b = 'tom'  #uppercase <br>\n",
    "c = 'LAURA'  #lowercase <br>\n",
    "question = 'How are you' #change o in e <br>\n",
    "age_question = 'How old are you?' #use the correct method to create a string for each word <br>\n",
    "print(a, b, c, question, age_question) <br>\n"
   ]
  },
  {
   "cell_type": "code",
   "execution_count": 2,
   "id": "859a1631",
   "metadata": {},
   "outputs": [
    {
     "name": "stdout",
     "output_type": "stream",
     "text": [
      "Hello TOM laura Hew are yeu How old are you ?\n"
     ]
    }
   ],
   "source": [
    "a = 'hello'\n",
    "a = a.capitalize()\n",
    "b = 'tom'\n",
    "b = b.upper()\n",
    "c = 'LAURA'\n",
    "c = c.lower()\n",
    "question = 'How are you'\n",
    "question = question.replace('o', 'e')\n",
    "age_question = 'How old are you?'\n",
    "age_question = age_question.replace('How old are you?', 'How old are you ?')\n",
    "print(a, b, c, question, age_question)\n",
    "word_1 = age_question.split(' ')"
   ]
  },
  {
   "cell_type": "code",
   "execution_count": 7,
   "id": "c7d8b8d1",
   "metadata": {},
   "outputs": [
    {
     "data": {
      "text/plain": [
       "'are'"
      ]
     },
     "execution_count": 7,
     "metadata": {},
     "output_type": "execute_result"
    }
   ],
   "source": [
    "word_1 = age_question.split(' ')\n",
    "word_1[0]\n",
    "word_1[1]\n",
    "word_1[2]"
   ]
  },
  {
   "cell_type": "markdown",
   "id": "cb4dad27",
   "metadata": {},
   "source": [
    "### Exercise Variables - 12\n",
    "#### Create two variables called name and age. Then create a variable called hello and print the name and the age. Use the formatted string literal."
   ]
  },
  {
   "cell_type": "code",
   "execution_count": 114,
   "id": "1dd30735",
   "metadata": {},
   "outputs": [
    {
     "name": "stdout",
     "output_type": "stream",
     "text": [
      "Hello, Mike. You are 30\n"
     ]
    }
   ],
   "source": [
    "name = 'Mike'\n",
    "age = '30'\n",
    "hello = \"Hello, \"+ name + \".\"+ \" You are \" + age\n",
    "print(hello)\n"
   ]
  },
  {
   "cell_type": "code",
   "execution_count": null,
   "id": "c5176563",
   "metadata": {},
   "outputs": [],
   "source": [
    "Exercise Methods - 1\n",
    "With type command you can see the type of a variable in python eg: type(1) print each components type with this way you can see most significant data types in python\n",
    "\n",
    "print(__(\"Hello World\"))\n",
    "print(__(True))\n",
    "print(__(False))\n",
    "print(__(33))\n",
    "print(__(24.5))\n",
    "print(__(4+1j))\n",
    "print(__(4j))\n",
    "print(__([\"lion\", \"monkey\", \"dog\",\"fish\"]))\n",
    "print(__((\"lion\", \"monkey\", \"dog\",\"fish\")))\n",
    "print(__({\"name\" : \"John\", \"surname\" : \"Doe\", \"age\":22}))\n",
    "print(__({\"lion\", \"monkey\", \"dog\",\"fish\"}))"
   ]
  },
  {
   "cell_type": "code",
   "execution_count": 1,
   "id": "1aaa9dfa",
   "metadata": {},
   "outputs": [],
   "source": [
    "def type_ident(name):\n",
    "    print(type(name))"
   ]
  },
  {
   "cell_type": "code",
   "execution_count": 3,
   "id": "680ca915",
   "metadata": {},
   "outputs": [
    {
     "name": "stdout",
     "output_type": "stream",
     "text": [
      "<class 'str'>\n",
      "<class 'bool'>\n",
      "<class 'bool'>\n",
      "<class 'int'>\n",
      "<class 'float'>\n",
      "<class 'complex'>\n",
      "<class 'complex'>\n",
      "<class 'list'>\n",
      "<class 'tuple'>\n",
      "<class 'dict'>\n",
      "<class 'set'>\n"
     ]
    }
   ],
   "source": [
    "print(type(\"Hello World\"))\n",
    "print(type(True))\n",
    "print(type(False))\n",
    "print(type(33))\n",
    "print(type(24.5))\n",
    "print(type(4+1j))\n",
    "print(type(4j))\n",
    "print(type([\"lion\", \"monkey\", \"dog\",\"fish\"]))\n",
    "print(type((\"lion\", \"monkey\", \"dog\",\"fish\")))\n",
    "print(type({\"name\" : \"John\", \"surname\" : \"Doe\", \"age\":22}))\n",
    "print(type({\"lion\", \"monkey\", \"dog\",\"fish\"}))"
   ]
  },
  {
   "cell_type": "markdown",
   "id": "574cbff9",
   "metadata": {},
   "source": [
    "the number types can be converted to each other wit the int() float() complex() methods also float numbers can be rounded with the method round()\n",
    "\n",
    "convert num1 to float and assign to itself\n",
    "convert num2 to int and assign to itself\n",
    "convert num3 to complex and assign to itself\n",
    "use round method for num4 and assign to itself\n",
    "use round method for num5 and assign to itself\n",
    "print them all\n",
    "print their types"
   ]
  },
  {
   "cell_type": "code",
   "execution_count": 12,
   "id": "6bfac921",
   "metadata": {},
   "outputs": [],
   "source": [
    "num1 = float(1.3)\n",
    "num2 = int(2.3)\n",
    "num3 = complex(1j) \n",
    "num4 = round(1.4) \n",
    "num5 = round(1.5)\n"
   ]
  },
  {
   "cell_type": "code",
   "execution_count": 81,
   "id": "f48a6734",
   "metadata": {},
   "outputs": [
    {
     "name": "stdout",
     "output_type": "stream",
     "text": [
      "1.3 \n",
      " <class 'float'>\n",
      "2 \n",
      " <class 'int'>\n",
      "1j \n",
      " <class 'complex'>\n",
      "1 \n",
      " <class 'int'>\n",
      "1.5 \n",
      " <class 'float'>\n"
     ]
    }
   ],
   "source": [
    "print(num1 ,'\\n', type(num1))\n",
    "print(num2 ,'\\n', type(num2))\n",
    "print(num3 ,'\\n', type(num3))\n",
    "print(num4 ,'\\n', type(num4))\n",
    "print(num5 ,'\\n', type(num5))"
   ]
  },
  {
   "cell_type": "markdown",
   "id": "45bd96b4",
   "metadata": {},
   "source": [
    "Exercise Methods - 3\n",
    "to convert a number to string we can use str() function this is called casting\n",
    "\n",
    "cast num1 to string and assign to num1_str\n",
    "check the length of the string\n",
    "get the third element of string (the one in the 3rd order)\n",
    "get the 3-5 elements of string (both inclusive) by string slicing\n",
    "!!!check if num2 in string (cast if necessary)\n",
    "!!!check if num3 in string (cast if necessary)\n",
    "concatenate 0 to the string from left and assign to string_with_0\n",
    "get the characters of string_with_0 from start to position 4 (end point exclusive)\n",
    "get the characters of string_with_0 from position 5 until the end\n",
    "use negative indexing to reach the \"567\" string_with_0"
   ]
  },
  {
   "cell_type": "code",
   "execution_count": 273,
   "id": "56782e17",
   "metadata": {},
   "outputs": [
    {
     "name": "stdout",
     "output_type": "stream",
     "text": [
      "13\n",
      "2\n",
      "233\n",
      "<class 'str'>\n",
      "False\n",
      "<class 'str'>\n",
      "False\n",
      "01122334455666\n",
      "233445566\n",
      "334455666\n",
      "334\n"
     ]
    }
   ],
   "source": [
    "num1 = 1122334455666\n",
    "# cast num1 to string and assign to num1_str\n",
    "num1_str = str(num1)\n",
    "# check the length of the string\n",
    "print(len(num1_str))\n",
    "# get the third element of string (the one in the 3rd order)\n",
    "print(num1_str[2])\n",
    "# get the 3-5 elements of string (both inclusive) by string slicing\n",
    "print(num1_str[3:5+1])\n",
    "#!!!check if num2 in string (cast if necessary)\n",
    "num2 = str(2.3)\n",
    "print(type(num2))\n",
    "print(num2 in num1_str)\n",
    "# !!!check if num3 in string (cast if necessary)\n",
    "num3 = str(complex(1j)) \n",
    "print(type(num3))\n",
    "print(num3 in num1_str)\n",
    "#concatenate 0 to the string from left and assign to string_with_0\n",
    "string_with_0 = '0' + num1_str\n",
    "# get the characters of string_with_0 from start to position 4 (end point exclusive)\n",
    "print(string_with_0[4:-1])\n",
    "# get the characters of string_with_0 from position 5 until the end\n",
    "print(string_with_0[5:])\n",
    "# use negative indexing to reach the \"567\" string_with_0\n",
    "print(string_with_0[-9:-6])"
   ]
  },
  {
   "cell_type": "code",
   "execution_count": 280,
   "id": "6747ebc6",
   "metadata": {},
   "outputs": [
    {
     "name": "stdout",
     "output_type": "stream",
     "text": [
      "344\n"
     ]
    }
   ],
   "source": [
    "num1 = \"01122334455666\"\n",
    "x=num1[8:5:-1]\n",
    "new_str_reverse = ''.join(sorted(x))\n",
    "print(new_str_reverse)"
   ]
  },
  {
   "cell_type": "code",
   "execution_count": 277,
   "id": "1122bc4d",
   "metadata": {},
   "outputs": [
    {
     "name": "stdout",
     "output_type": "stream",
     "text": [
      "num1 is greater\n"
     ]
    }
   ],
   "source": [
    "# print if num1 or num2 is greater num1 = 335 num2 = 66\n",
    "num1 , num2 = 355 , 66\n",
    "if num1 > num2:\n",
    "    print('num1 is greater')\n",
    "else:\n",
    "    print('num2 is greater')"
   ]
  },
  {
   "cell_type": "code",
   "execution_count": null,
   "id": "2aca5cee",
   "metadata": {},
   "outputs": [],
   "source": [
    "check if number1 is greater than number 2 and print number1 is greater than number2 then check and if number 2 is greater than number 1 and print number2 is greater than number1 finally at the end if both conditions incorrect print number2 equals to number1\n",
    "\n",
    "number1 = 66 number2 = 66"
   ]
  },
  {
   "cell_type": "code",
   "execution_count": 289,
   "id": "0f2e3e97",
   "metadata": {},
   "outputs": [
    {
     "name": "stdout",
     "output_type": "stream",
     "text": [
      "number2 equals to number1\n"
     ]
    }
   ],
   "source": [
    "number1, number2 = 66 , 66\n",
    "if number1 > number2:\n",
    "    print('number1 is greater than number2')\n",
    "elif number1 < number1:\n",
    "    print('number2 is greater than number1')\n",
    "else:\n",
    "    print('number2 equals to number1')"
   ]
  },
  {
   "cell_type": "code",
   "execution_count": 335,
   "id": "0b366733",
   "metadata": {},
   "outputs": [
    {
     "name": "stdout",
     "output_type": "stream",
     "text": [
      "X is greater than Y\n"
     ]
    }
   ],
   "source": [
    "# Compare those 2 numbers and write X greater than Y But be sure you are making the check for all the conditions\n",
    "import random\n",
    "\n",
    "X = random.randint(1,100)\n",
    "Y = random.randint(1,100)\n",
    "if X > Y:\n",
    "    print('X is greater than Y')\n",
    "elif X < Y:\n",
    "    print('Y is greater than X')\n",
    "else:\n",
    "    print('X equals to Y')\n",
    "# Compare the numbers to eachother \n"
   ]
  },
  {
   "cell_type": "code",
   "execution_count": 346,
   "id": "6df0effe",
   "metadata": {},
   "outputs": [
    {
     "name": "stdout",
     "output_type": "stream",
     "text": [
      "number1 is greater\n"
     ]
    }
   ],
   "source": [
    "# Compare those 2 numbers' absolute values and write X's absolute value greater than Y's absolute value Use abs function to do that\n",
    "# eg.\n",
    "# abs(-5) -> 5\n",
    "# abs function makes all numbers positive\n",
    "\n",
    "import random\n",
    "\n",
    "number1 = random.randint(-100,100)\n",
    "number2 = random.randint(-100,100)\n",
    "\n",
    "if abs(number1) > abs(number2):\n",
    "    print('number1 is greater')\n",
    "else:\n",
    "    print('number2 is greater')\n",
    "    "
   ]
  },
  {
   "cell_type": "code",
   "execution_count": 2,
   "id": "a79e490c",
   "metadata": {},
   "outputs": [
    {
     "name": "stdout",
     "output_type": "stream",
     "text": [
      "*\n",
      "**\n",
      "***\n",
      "****\n",
      "*****\n"
     ]
    }
   ],
   "source": [
    "# Iterators - While Loop\n",
    "# Create ` * **\n",
    "i = 1 \n",
    "while i<6:\n",
    "    print(\"*\"*i)\n",
    "    i = i+ 1"
   ]
  },
  {
   "cell_type": "code",
   "execution_count": 94,
   "id": "53df0147",
   "metadata": {},
   "outputs": [
    {
     "name": "stdout",
     "output_type": "stream",
     "text": [
      "*\n",
      "***\n",
      "*****\n"
     ]
    }
   ],
   "source": [
    "\"\"\"Iterators - For Loop\n",
    "Create\n",
    "\n",
    "*\n",
    "***\n",
    "*****\n",
    "this shape with print, for loop, if and continue statements\"\"\"\n",
    "\n",
    "\n",
    "for n in range(1,10,2):\n",
    "    print(\"*\" * n)\n",
    "    \n",
    "    if n < 4:\n",
    "        continue\n",
    "    else:\n",
    "        break\n",
    "    \n",
    "\n",
    "    "
   ]
  },
  {
   "cell_type": "code",
   "execution_count": 97,
   "id": "38abd074",
   "metadata": {},
   "outputs": [
    {
     "name": "stdout",
     "output_type": "stream",
     "text": [
      "coffee break\n"
     ]
    }
   ],
   "source": [
    "\"\"\" Iterators - For Loop\n",
    "Check if it is time for coffee break if it is just break\n",
    "To do that lets iterate through given list don't change the COFFEE BREAK statement.\n",
    "just find another way to do it \"\"\"\n",
    "\n",
    "todo = [\"exercise1\", \"exercise2\", \"exercise3\",\"coffee break\" ,\"exercise4\",\"exercise5\",\"exercise6\"]\n",
    "for x in todo:\n",
    "    if x.upper() == \"COFFEE BREAK\":\n",
    "        print(x)\n",
    "        break\n",
    "  "
   ]
  },
  {
   "cell_type": "code",
   "execution_count": 127,
   "id": "7c59d2d5",
   "metadata": {},
   "outputs": [
    {
     "name": "stdout",
     "output_type": "stream",
     "text": [
      "---- printng item from the list ---- \n",
      "\n",
      "lion\n",
      "monkey\n",
      "dog\n",
      "fish\n",
      "\n",
      "---- printng items from the tuple ---- \n",
      "\n",
      "lion\n",
      "monkey\n",
      "dog\n",
      "fish\n",
      "\n",
      "---- printng items from the set ---- \n",
      "\n",
      "fish\n",
      "lion\n",
      "dog\n",
      "monkey\n",
      "\n",
      "---- printng items from the dict1 ---- \n",
      "\n",
      "lion\n",
      "monkey\n",
      "dog\n"
     ]
    }
   ],
   "source": [
    "\"\"\" Iterators - For Loop\n",
    "Iterate each elements of list1,tuple1,set1 and print them out\n",
    "For the dict1 iterate all elements but only print the ones who are living on land in the form of x lives in y \"\"\"\n",
    "\n",
    "list1 = [\"lion\", \"monkey\", \"dog\",\"fish\"]\n",
    "tuple1 = (\"lion\", \"monkey\", \"dog\",\"fish\")\n",
    "set1 = {\"lion\", \"monkey\", \"dog\",\"fish\"}\n",
    "dict1 = {\"lion\":\"land\", \"monkey\":\"land\", \"dog\":\"land\",\"fish\":\"water\"}\n",
    "\n",
    "\n",
    "print(\"---- printng item from the list ---- \\n\")\n",
    "for item in list1:\n",
    "    print(item)  \n",
    "print()\n",
    "print(\"---- printng items from the tuple ---- \\n\")\n",
    "for item in tuple1:\n",
    "    print(item)\n",
    "print()\n",
    "print(\"---- printng items from the set ---- \\n\")\n",
    "for item in set1:\n",
    "    print(item)\n",
    "    \n",
    "print()\n",
    "print(\"---- printng items from the dict1 ---- \\n\")\n",
    "for key, value in dict1.items():\n",
    "        if value == 'land':\n",
    "            print(key)"
   ]
  },
  {
   "cell_type": "code",
   "execution_count": 186,
   "id": "c1571615",
   "metadata": {},
   "outputs": [
    {
     "name": "stdout",
     "output_type": "stream",
     "text": [
      "The length of lsit1 is 4.\n",
      "The length of tuple1 is 4.\n",
      "The length of set1 is 4.\n",
      "The length of dict1 is 4.\n",
      "\n",
      "first element of list1 is lion, first elemnet of tuple1 is lion\n",
      "\n",
      "lion key value is 4\n",
      "\n",
      "['lion', 'monkey', 'dog', 'fish']\n",
      "['lion', 'rabbit', 'dog', 'fish']\n",
      "\n",
      " ---try to change the 2nd position element of the tuple to \"rabbit\" and explain what happened.--- \n",
      "\n",
      " 'object does not support item assignment', because the tuple is immuatable.  \n",
      "\n",
      "['lion', 'rabbit', 'dog', 'fish']\n",
      "['lion', 'rabbit', 'dog', 'fish', 'monkey'] \n",
      "\n",
      "['lion', 'dog', 'fish', 'monkey'] \n",
      "\n",
      "{'lion': 4, 'monkey': 2, 'dog': 4, 'fish': 0}\n"
     ]
    }
   ],
   "source": [
    "\"\"\"\n",
    "Remember list,set,dictionary are mutable and tuple is immutable list,tuple elements can be reached by index\n",
    "for dictionary it is not an option to reach by index the element key has to be known to reach\n",
    "and for set the items cannot be reached directly but it is possible to iterate.\n",
    "\n",
    "print the lengths of list1,tuple1,set1,dict1\n",
    "print the first element of list1 and tuple1\n",
    "print the value of lion key of dict1\n",
    "change the 2nd position element of list1 to \"rabbit\"\n",
    "try to change the 2nd position element of the tuple to \"rabbit\" and explain what happened.\n",
    "add \"monkey\" to list1\n",
    "remove \"rabbit\" from list1\n",
    "in dict1 the number of feet is written as value to each animal the fixh has wrong value just fix it.\n",
    "\n",
    "\"\"\"\n",
    "list1 = [\"lion\", \"monkey\", \"dog\",\"fish\"]\n",
    "tuple1 = (\"lion\", \"monkey\", \"dog\",\"fish\")\n",
    "set1 = {\"lion\", \"monkey\", \"dog\",\"fish\"}\n",
    "dict1 = {\"lion\":4, \"monkey\":2, \"dog\":4,\"fish\":2}\n",
    "\n",
    "# print the lengths of list1,tuple1,set1,dict1\n",
    "print( f'''The length of lsit1 is {len(list1)}.\n",
    "The length of tuple1 is {len(tuple1)}.\n",
    "The length of set1 is {len(set1)}.\n",
    "The length of dict1 is {len(dict1)}.''')\n",
    "print()\n",
    "# print the first element of list1 and tuple1\n",
    "print(f'first element of list1 is {list1[0]}, first elemnet of tuple1 is {tuple1[0]}')\n",
    "print()\n",
    "# print the value of lion key of dict1\n",
    "print(f\"lion key value is {dict1['lion']}\")\n",
    "print()\n",
    "# change the 2nd position element of list1 to \"rabbit\"\n",
    "print(list1)\n",
    "list1[1] = 'rabbit'\n",
    "# after adding 'rabbit'\n",
    "print(list1)\n",
    "print('\\n ---try to change the 2nd position element of the tuple to \"rabbit\" and explain what happened.--- \\n')\n",
    "try:\n",
    "    tuple[1] = 'rabbit'\n",
    "except TypeError:\n",
    "    print(\" 'object does not support item assignment', because the tuple is immuatable.  \\n\")\n",
    "    \n",
    "# add \"monkey\" to list1\n",
    "print(list1) # before adding the monkey \n",
    "list1.append('monkey')\n",
    "print(list1, '\\n') # after adding the monkey \n",
    "# remove \"rabbit\" from list1\n",
    "list1.remove('rabbit')\n",
    "print(list1, '\\n')\n",
    "dict1['fish'] = 0\n",
    "print(dict1)\n"
   ]
  },
  {
   "cell_type": "code",
   "execution_count": 3,
   "id": "708f2c56",
   "metadata": {},
   "outputs": [
    {
     "name": "stdout",
     "output_type": "stream",
     "text": [
      "goodbye\n"
     ]
    }
   ],
   "source": [
    "\"\"\" Exercise 1 - Functions\n",
    "To create functions in python we start with def word and after it the name of function comes with without parameters\n",
    "example is here\n",
    "\n",
    "def hello():\n",
    "    print(\"hello\")\n",
    "Now you create a function named goodbye without parameters which prints good bye\n",
    "\n",
    "\"\"\"\n",
    "\n",
    "def goodbye():\n",
    "    print('goodbye')\n",
    "    \n",
    "goodbye()\n"
   ]
  },
  {
   "cell_type": "code",
   "execution_count": 11,
   "id": "e56e7477",
   "metadata": {},
   "outputs": [
    {
     "name": "stdout",
     "output_type": "stream",
     "text": [
      "Goodbye Adam.\n"
     ]
    }
   ],
   "source": [
    "\"\"\" Exercise 2 - Functions\n",
    "Inside the parenthesis variables can be used those variables as known as parameters of the function provides control inside the function example is here\n",
    "\n",
    "def hello(name):\n",
    "    print(f\"hello {name}\")\n",
    "Now you create a function named goodbye with a parameter name and say \"Good bye Adam\" \"\"\"\n",
    "\n",
    "def goodbye(name) -> str:\n",
    "    print(f\"Goodbye {name}.\")\n",
    "    \n",
    "goodbye('Adam')"
   ]
  },
  {
   "cell_type": "code",
   "execution_count": 16,
   "id": "cf252541",
   "metadata": {},
   "outputs": [
    {
     "name": "stdout",
     "output_type": "stream",
     "text": [
      "Moni\n"
     ]
    }
   ],
   "source": [
    "\"\"\" Exercise 3 - Functions\n",
    "Let's see what is your user name on your computer\n",
    "to do that we are going to use os module which is a built in module in python\n",
    "and has many built in functions in it\n",
    "\n",
    "to be able to use os functions\n",
    "import os then call getlogin method of the module\n",
    "then assign the output to user variable and print the user \"\"\"\n",
    "\n",
    "import os\n",
    "dir(os)\n",
    "user = os.getlogin()\n",
    "print(user)"
   ]
  },
  {
   "cell_type": "code",
   "execution_count": 26,
   "id": "245e4679",
   "metadata": {},
   "outputs": [
    {
     "name": "stdout",
     "output_type": "stream",
     "text": [
      "Hello John Doe! \n",
      "Hello Tristram Mcbride!\n",
      "Hello Baldwin Preston!\n",
      "Hello Wally Collins!\n"
     ]
    }
   ],
   "source": [
    "\"\"\" Exercise 4 - Functions\n",
    "Now create a function for John Doe and his family that greets every one in the family.\n",
    "Since it will usually John Doe the name and surname parameter must be defaulted\n",
    "and when someone else comes it has to greet the new comer with name surname parameters which were overwritten. Make it possible.\n",
    "The function have to print \"Hello John Doe\" where John and Doe is parametric\n",
    "Greet each our John first then the people in the list with for loop and the function\n",
    "What you have to use\n",
    "\n",
    "for loop\n",
    "function\n",
    "string operation\n",
    "list index\n",
    "Output format\n",
    "\n",
    "Hello John Doe!\n",
    "Hello Tristram Mcbride!\n",
    "Hello Baldwin Preston!\n",
    "Hello Wally Collins! \"\"\"\n",
    "\n",
    "def greet(name) -> list:\n",
    "    n = 0\n",
    "    for i in name:\n",
    "        if n == 0:\n",
    "            print(f'Hello John Doe! \\nHello {i}!')\n",
    "            n = +1\n",
    "        else:\n",
    "             print(f'Hello {i}!')\n",
    "        \n",
    "greet(['Tristram Mcbride', 'Baldwin Preston', 'Wally Collins'])\n",
    "\n"
   ]
  },
  {
   "cell_type": "code",
   "execution_count": 114,
   "id": "b316aff9",
   "metadata": {},
   "outputs": [
    {
     "name": "stdout",
     "output_type": "stream",
     "text": [
      "[59, 3, -99, -32, -100, -55, 86, -69, -94, -89, -34, 20, -70, 64, 23]\n",
      " Sum of all elemnets is -387.\n"
     ]
    }
   ],
   "source": [
    "\"\"\" Exercise 5 - Functions\n",
    "Import random function\n",
    "Create a function random_list_summer creates n elemented list with min value = -100 max value = 100 it \n",
    "has to print the list first and sum all the elements of it default element number is 15\n",
    "Don't forget to call the function\n",
    "for some features and functions you might have to search on the internet do it don't lose your courage \"\"\"\n",
    "import random\n",
    "\n",
    "def random_list_summer(n) -> int: # please write the number of elements you want ( default is 15).\n",
    "    n = random.sample(range(-100,100), n)\n",
    "    print(n)\n",
    "    sum_all_elements = 0\n",
    "    for i in n:\n",
    "        sum_all_elements +=i\n",
    "    print( f' Sum of all elemnets is {sum_all_elements}.')\n",
    "random_list_summer(15)"
   ]
  },
  {
   "cell_type": "code",
   "execution_count": 131,
   "id": "158b476d",
   "metadata": {},
   "outputs": [
    {
     "name": "stdout",
     "output_type": "stream",
     "text": [
      "1 : 1\n",
      "2 : 1\n",
      "3 : 2\n",
      "4 : 3\n",
      "5 : 5\n"
     ]
    }
   ],
   "source": [
    "\"\"\" Exercise 6 - Functions Implement Fibonacci sequence as recursive function and print first 5 elements.\"\"\"\n",
    "\n",
    "def fibo_seq(n):\n",
    "    if n <=1:\n",
    "        return 1\n",
    "    elif n == 2:\n",
    "        return 1\n",
    "    else:\n",
    "        return fibo_seq(n-1)+fibo_seq(n-2) # recursive as the fucntion calling itself in the function.\n",
    "for i in range(1,10):\n",
    "    if i == 6:\n",
    "        break\n",
    "    else:\n",
    "        print(f'{i} : {fibo_seq(i)}')\n",
    "        "
   ]
  },
  {
   "cell_type": "code",
   "execution_count": null,
   "id": "68894b7e",
   "metadata": {},
   "outputs": [],
   "source": []
  }
 ],
 "metadata": {
  "kernelspec": {
   "display_name": "Python 3 (ipykernel)",
   "language": "python",
   "name": "python3"
  },
  "language_info": {
   "codemirror_mode": {
    "name": "ipython",
    "version": 3
   },
   "file_extension": ".py",
   "mimetype": "text/x-python",
   "name": "python",
   "nbconvert_exporter": "python",
   "pygments_lexer": "ipython3",
   "version": "3.9.13"
  }
 },
 "nbformat": 4,
 "nbformat_minor": 5
}
